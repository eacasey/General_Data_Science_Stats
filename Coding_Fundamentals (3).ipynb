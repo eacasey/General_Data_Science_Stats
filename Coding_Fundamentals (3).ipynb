{
 "cells": [
  {
   "cell_type": "markdown",
   "id": "12298b5e-3c2c-4df0-ace6-af2f0ef3a837",
   "metadata": {},
   "source": [
    "**Using maps & dictionaries to recode values in a dataframe column**"
   ]
  },
  {
   "cell_type": "code",
   "execution_count": 1,
   "id": "d1f4456a-244a-47a6-98c5-3ca8023b1d9a",
   "metadata": {},
   "outputs": [
    {
     "name": "stdout",
     "output_type": "stream",
     "text": [
      "   data new_data_1\n",
      "0     0     Sunday\n",
      "1     1     Monday\n",
      "2     2    Tuesday\n",
      "3     3  Wednesday\n",
      "4     4   Thursday\n",
      "5     5     Friday\n",
      "6     6   Saturday\n"
     ]
    }
   ],
   "source": [
    "import pandas as pd\n",
    "  \n",
    "data_frame = pd.DataFrame([[i] for i in range(7)], columns =['data'])\n",
    "  \n",
    "# Introducing weeks as dictionary\n",
    "weeks = {0:'Sunday', 1:'Monday', 2:'Tuesday', 3:'Wednesday', 4:'Thursday', 5:'Friday', 6:'Saturday'}\n",
    "  \n",
    "# Mapping the dictionary keys to the data frame.\n",
    "data_frame['new_data_1'] = data_frame['data'].map(weeks)\n",
    "print (data_frame)"
   ]
  },
  {
   "cell_type": "markdown",
   "id": "20214f9e-9a73-4274-9eb3-d167d33a1eed",
   "metadata": {},
   "source": [
    "**Looping through dataframes**"
   ]
  },
  {
   "cell_type": "code",
   "execution_count": null,
   "id": "0485f0fa-58a4-4627-9067-63426231022b",
   "metadata": {},
   "outputs": [],
   "source": [
    "dataframes = [data4, data3]\n",
    "\n",
    "for i in range(len(dataframes)):\n",
    "    dataframes[i]['new_var'] = dataframes[i].loc[:, 'old_var'].str.upper()"
   ]
  },
  {
   "cell_type": "markdown",
   "id": "ae3aa197-ba9d-4ee8-844b-2e2b51600559",
   "metadata": {},
   "source": [
    "**Using str.contains()**"
   ]
  },
  {
   "cell_type": "code",
   "execution_count": null,
   "id": "d7fa8ea0-cd31-4535-b50a-af0b05420db6",
   "metadata": {},
   "outputs": [],
   "source": [
    "data1 = data[data['variable'].str.contains('string', na = False)]"
   ]
  },
  {
   "cell_type": "markdown",
   "id": "39fb6753-dd96-46fb-aeae-b1e884c0ddc2",
   "metadata": {},
   "source": [
    "**Calculating Grouped by Percentages** "
   ]
  },
  {
   "cell_type": "code",
   "execution_count": null,
   "id": "ceda2de5-57be-42fe-b851-9ba25461cf97",
   "metadata": {},
   "outputs": [],
   "source": [
    "df1 = df.groupby(['variable1', 'variable2']).agg({'count': 'sum'})\n",
    "df2 = df1.groupby(level=0).apply(lambda x:  100 * x / float(x.sum())).reset_index()"
   ]
  },
  {
   "cell_type": "markdown",
   "id": "62982910-7aed-4170-a2cb-cd12400c3852",
   "metadata": {},
   "source": [
    "**Recoding subsets of a column in dataframe based on a condition**"
   ]
  },
  {
   "cell_type": "code",
   "execution_count": null,
   "id": "2f4b082f-642f-4b54-a454-37b0113ca16a",
   "metadata": {},
   "outputs": [],
   "source": [
    "df.loc[df['area'] < 50, 'Size'] = 'small'\n",
    "df.loc[df['area'] >= 50, 'Size'] = 'large'"
   ]
  },
  {
   "cell_type": "markdown",
   "id": "28e21f40-c156-4d7d-bfd0-4a64befc0e67",
   "metadata": {},
   "source": [
    "**Extracting the year from a date column**"
   ]
  },
  {
   "cell_type": "code",
   "execution_count": null,
   "id": "0cfc803c-bcee-473f-9baf-d8712d6dcf61",
   "metadata": {},
   "outputs": [],
   "source": [
    "df.loc[:, 'date'] = pd.to_datetime(df['dt']) \n",
    "df.loc[:, 'year'] = df['date'].dt.year"
   ]
  },
  {
   "cell_type": "markdown",
   "id": "1e717e53-7c29-42ed-ba4f-79e3c5a7f648",
   "metadata": {},
   "source": [
    "**To change the angle of x-axis labels**"
   ]
  },
  {
   "cell_type": "code",
   "execution_count": null,
   "id": "81bca4e0-b038-40fc-a145-ed99db12ca49",
   "metadata": {},
   "outputs": [],
   "source": [
    "plt.figure(figsize=(15, 7))\n",
    "sns.set_style(\"white\")\n",
    "sns.barplot(x='x', y='y', hue = 'group', data=df)\n",
    "plt.xticks(rotation=70) # to change the angle of the x-axis labels "
   ]
  },
  {
   "cell_type": "markdown",
   "id": "17a90b83-a159-4d7f-9cda-314ebae3a70a",
   "metadata": {},
   "source": [
    "**Scaling column based on condition**"
   ]
  },
  {
   "cell_type": "code",
   "execution_count": null,
   "id": "a1212924-d0bb-497d-bb28-c530618136d9",
   "metadata": {},
   "outputs": [],
   "source": [
    "# When other_var = 1, then new_var = old_var/1000, otherwise it's = old_var\n",
    "df.loc[:, 'new_var'] = (df.loc[:, 'old_var']*(1/1000)).where(df['other_var'] == 1, df['old_var'])"
   ]
  },
  {
   "cell_type": "markdown",
   "id": "cc485f43-db04-4df7-a84c-fdbcde7748ee",
   "metadata": {},
   "source": [
    "**Selecting just the mean columns for the describe df**"
   ]
  },
  {
   "cell_type": "code",
   "execution_count": null,
   "id": "029baef5-e913-4937-b249-17297ae19992",
   "metadata": {},
   "outputs": [],
   "source": [
    "mean_cols = [col for col in all_subclusts_sum.columns if 'mean' in col]\n",
    "mean_cols[1]"
   ]
  },
  {
   "cell_type": "markdown",
   "id": "30139e20-7cf1-44c7-a41a-94363498b3de",
   "metadata": {},
   "source": [
    "**Spreading a dataframe**"
   ]
  },
  {
   "cell_type": "code",
   "execution_count": null,
   "id": "5338b4b0-646d-4c16-a044-5f1977b799ad",
   "metadata": {},
   "outputs": [],
   "source": [
    "df1 = df.pivot(index='index_column',columns='column_to_spread',values='value').reset_index()"
   ]
  },
  {
   "cell_type": "markdown",
   "id": "a38d7865-1a5c-43ee-a358-c8b2a8dd5691",
   "metadata": {},
   "source": [
    "**Interactive Graph**"
   ]
  },
  {
   "cell_type": "code",
   "execution_count": null,
   "id": "f2d918b8-e9fd-4296-88c3-9c6a9153887e",
   "metadata": {},
   "outputs": [],
   "source": [
    "from ipywidgets import (widgets, interact, interactive, interact_manual, fixed)\n",
    "from ipywidgets import Dropdown\n",
    "\n",
    "@interact\n",
    "def plot_group_means(variable = df['Variable'].unique()):\n",
    "\n",
    "    df1 = df[df['Variable'] == variable]\n",
    "    fig, ax = plt.subplots(figsize = (12, 6))\n",
    "    \n",
    "    pal = sns.set_palette('Paired')\n",
    "\n",
    "    sns.barplot(x = 'x', y = 'y', ax = ax, palette = pal, data = df1, order = df1.sort_values('x').x)\n",
    "    sns.set_style('white')  \n",
    "\n",
    "    ax.set_xlabel('X')\n",
    "    ax.set_ylabel('Y')\n",
    "    ax.set_title('{} by Group'.format(variable))\n",
    "    \n",
    "    plt.show()"
   ]
  }
 ],
 "metadata": {
  "kernelspec": {
   "display_name": "Python 3 (ipykernel)",
   "language": "python",
   "name": "python3"
  },
  "language_info": {
   "codemirror_mode": {
    "name": "ipython",
    "version": 3
   },
   "file_extension": ".py",
   "mimetype": "text/x-python",
   "name": "python",
   "nbconvert_exporter": "python",
   "pygments_lexer": "ipython3",
   "version": "3.9.1"
  }
 },
 "nbformat": 4,
 "nbformat_minor": 5
}
